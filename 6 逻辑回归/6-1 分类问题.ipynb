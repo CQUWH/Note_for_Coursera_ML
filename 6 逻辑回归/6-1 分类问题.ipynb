{
 "cells": [
  {
   "cell_type": "markdown",
   "metadata": {},
   "source": [
    "# 分类问题"
   ]
  },
  {
   "cell_type": "markdown",
   "metadata": {},
   "source": [
    "二元分类问题：\n",
    "- 正向类 positive class\n",
    "- 负向类 negative class\n",
    "\n",
    "线性回归并不适用于分类问题\n",
    "\n",
    "逻辑回归（Logistic Regression）：$0\\le h_{\\theta}(x)\\le1$\n",
    "\n",
    "逻辑回归的输出值永远在0到1之间"
   ]
  },
  {
   "cell_type": "markdown",
   "metadata": {},
   "source": [
    "# 逻辑回归"
   ]
  },
  {
   "cell_type": "markdown",
   "metadata": {},
   "source": [
    "### 假设函数\n",
    "\n",
    "假设函数应该满足性质：$0\\le h_{\\theta}(x)\\le1$\n",
    "\n",
    "逻辑回归的假设为：\n",
    "\n",
    "$$\n",
    "h_{\\theta}(x) = g(\\theta^TX)\n",
    "$$\n",
    "\n",
    "其中 $g$ 代表逻辑函数(Logistic function / Sigmoid function) 公式为：\n",
    "\n",
    "$$\n",
    "g(z) = \\frac{1}{1+e^{-z}}\n",
    "$$\n",
    "\n",
    "$h_{\\theta}(x)$ 的作用是对于给定的输入变量，根据选择的参数计算出y=1的可能性，即 $h_{\\theta}(x)=P(y=1|x;\\theta)$"
   ]
  },
  {
   "cell_type": "code",
   "execution_count": 17,
   "metadata": {},
   "outputs": [
    {
     "data": {
      "image/png": "[encoded data removed]",
      "text/plain": [
       "<Figure size 432x288 with 1 Axes>"
      ]
     },
     "metadata": {
      "needs_background": "light"
     },
     "output_type": "display_data"
    }
   ],
   "source": [
    "%matplotlib inline\n",
    "import matplotlib.pyplot as plt\n",
    "import numpy as np\n",
    "from scipy import stats\n",
    "\n",
    "def sigmoid(z):\n",
    "    \"\"\"Logistic function\n",
    "    \"\"\"\n",
    "    return 1.0 / (1.0 + np.exp(-z))\n",
    "\n",
    "x = np.arange(-10, 10, 0.01)\n",
    "y = sigmoid(x)\n",
    "plt.plot(x, y)\n",
    "plt.show()"
   ]
  },
  {
   "cell_type": "markdown",
   "metadata": {},
   "source": [
    "# 决策边界 "
   ]
  },
  {
   "cell_type": "markdown",
   "metadata": {},
   "source": [
    "### 逻辑回归\n",
    "$\n",
    "h_{\\theta}(x) = g(\\theta^Tx) \\\\\n",
    "g(z) = \\frac{1}{1+e^{-z}}\n",
    "$\n",
    "\n",
    "在逻辑回归中，当  \n",
    "$h_{\\theta}(x) \\ge 0.5$ 时，预测 $y = 1$  \n",
    "$h_{\\theta}(x) < 0.5$ 时，预测 $y = 0$\n",
    "\n",
    "因此  \n",
    "$\\theta^Tx \\ge 0.5$ 时，预测 $y = 1$  \n",
    "$\\theta^Tx < 0.5$ 时，预测 $y = 0$\n",
    "\n",
    "决策边界(decision boundary)为预测为1的区域和预测为0的区域的分界线。\n",
    "\n",
    "**决策边界是假设函数的属性，其随着参数的确定而被确定，而不是数据集的属性。**\n",
    "\n",
    "直线决策边界 $\\theta_0 + \\theta_1x_1 + \\theta_2x_2$\n",
    "\n",
    "圆形决策边界 $\\theta_0 + \\theta_1x_1 + \\theta_2x_2 + \\theta_3x_1^2 + \\theta_4x_2^2$\n",
    "\n",
    "高阶的多项式可以得到非常复杂的决策边界。"
   ]
  },
  {
   "cell_type": "markdown",
   "metadata": {},
   "source": [
    "# 代价函数\n",
    "\n"
   ]
  },
  {
   "cell_type": "markdown",
   "metadata": {},
   "source": [
    "$$\n",
    "h_{\\theta}(x)=\\frac{1}{1+e^{-\\theta^Tx}}\n",
    "$$\n",
    "\n",
    "怎样选择参数 $\\theta$ ?\n",
    "\n",
    "如果逻辑回归使用线性回归同样的平方代价函数会导致 $J(\\theta)$ 为**非凸函数**\n",
    "\n",
    "重新定义逻辑回归的代价函数为：\n",
    "\n",
    "$$\n",
    "J(\\theta)=\\frac{1}{m}\\sum_{i=1}^{m}{Cost(h_{\\theta}(x^{(i)}), y^{(i)})}\n",
    "$$\n",
    "\n",
    "其中\n",
    "\n",
    "$$\n",
    "Cost(h_{\\theta}(x), y)=\\left\\{\n",
    "\\begin{aligned}\n",
    "-\\log(h_{\\theta}(x))\\ \\  if\\ y=1 \\\\\n",
    "-\\log(1-h_{\\theta}(x))\\ \\ if\\ y=0\n",
    "\\end{aligned}\n",
    "\\right.\n",
    "$$\n",
    "\n",
    "显然假设函数计算出来的概率值会影响代价函数的大小\n",
    "\n",
    "代价函数可以简写为\n",
    "\n",
    "$$\n",
    "Cost(h_{\\theta}(x), y)=\n",
    "-y \\cdot \\log(h_{\\theta}(x))\n",
    "-(1-y)\\cdot \\log(1 - h_{\\theta}(x))\n",
    "$$\n",
    "\n",
    "y = 1 时前面一项不为0，y = 0时后面一项不为0\n",
    "\n",
    "因此代价函数为\n",
    "\n",
    "$$\n",
    "J(\\theta)\n",
    "=-\\frac{1}{m}[\\sum_{i=1}^{m}\n",
    "{\n",
    "y \\cdot \\log(h_{\\theta}(x))\n",
    "+(1-y)\\cdot \\log(1 - h_{\\theta}(x))\n",
    "}]\n",
    "$$\n",
    "\n",
    "这是一个**凸函数**\n",
    "\n"
   ]
  },
  {
   "cell_type": "markdown",
   "metadata": {},
   "source": [
    "# 梯度下降"
   ]
  },
  {
   "cell_type": "markdown",
   "metadata": {},
   "source": [
    "迭代公式\n",
    "\n",
    "$$\n",
    "\\theta_j := \\theta_j - \\alpha \\frac{1}{m} \\sum_{i=1}^{m}{(h_{\\theta}(x^{(i)})-y^{(i)})\\cdot x_j^{(i)}}\n",
    "$$\n",
    "\n",
    "居然和线性回归的公式一模一样。"
   ]
  },
  {
   "cell_type": "markdown",
   "metadata": {},
   "source": [
    "# 实现"
   ]
  },
  {
   "cell_type": "code",
   "execution_count": 49,
   "metadata": {},
   "outputs": [],
   "source": [
    "def cost_function(x, y, theta):\n",
    "    \"\"\"代价函数\n",
    "    \"\"\"\n",
    "    m = x.shape[0]\n",
    "    y_eq_1 = -y * np.log(sigmoid(np.dot(x, theta.T)))\n",
    "    y_eq_0 = -(1-y) * np.log(1-sigmoid(np.dot(x, theta.T)))\n",
    "    return np.sum(y_eq_1 + y_eq_0) / m"
   ]
  },
  {
   "cell_type": "code",
   "execution_count": 48,
   "metadata": {},
   "outputs": [
    {
     "data": {
      "text/plain": [
       "array([[34.62365962, 78.02469282,  0.        ],\n",
       "       [30.28671077, 43.89499752,  0.        ],\n",
       "       [35.84740877, 72.90219803,  0.        ],\n",
       "       [60.18259939, 86.3085521 ,  1.        ],\n",
       "       [79.03273605, 75.34437644,  1.        ]])"
      ]
     },
     "execution_count": 48,
     "metadata": {},
     "output_type": "execute_result"
    }
   ],
   "source": [
    "# 加载数据集\n",
    "data_path = './data.txt'\n",
    "data = np.loadtxt(data_path, delimiter=',', dtype=np.double)\n",
    "data[0:5, :]"
   ]
  },
  {
   "cell_type": "code",
   "execution_count": 73,
   "metadata": {},
   "outputs": [
    {
     "data": {
      "text/plain": [
       "((100, 3), (100, 1), (1, 3))"
      ]
     },
     "execution_count": 73,
     "metadata": {},
     "output_type": "execute_result"
    }
   ],
   "source": [
    "x = data[:, 0:2]\n",
    "y = data[:, 2:3]\n",
    "x = np.hstack((np.ones(y.shape), x))  # 补一列 x_0\n",
    "theta = np.zeros((1, x.shape[1]))\n",
    "x.shape, y.shape, theta.shape"
   ]
  },
  {
   "cell_type": "code",
   "execution_count": 74,
   "metadata": {},
   "outputs": [
    {
     "data": {
      "text/plain": [
       "0.6931471805599453"
      ]
     },
     "execution_count": 74,
     "metadata": {},
     "output_type": "execute_result"
    }
   ],
   "source": [
    "cost_function(x, y, theta)  # 测试代价函数"
   ]
  },
  {
   "cell_type": "code",
   "execution_count": 75,
   "metadata": {},
   "outputs": [
    {
     "data": {
      "text/plain": [
       "array([[ -0.1       , -12.00921659, -11.26284221]])"
      ]
     },
     "execution_count": 75,
     "metadata": {},
     "output_type": "execute_result"
    }
   ],
   "source": [
    "def grad(x, y, theta):\n",
    "    \"\"\"梯度\n",
    "    \"\"\"\n",
    "    m = x.shape[0]\n",
    "    inner = sigmoid(np.dot(x, theta.T)) - y\n",
    "    return (1/m) * np.dot(inner.T, x)    # 梯度\n",
    "\n",
    "grad(x, y, theta)"
   ]
  },
  {
   "cell_type": "code",
   "execution_count": 107,
   "metadata": {},
   "outputs": [],
   "source": [
    "def grad_desc(x, y, theta, alpha, iters):\n",
    "    \"\"\"梯度下降\n",
    "    theta: 初始值\n",
    "    alpha: 学习率\n",
    "    iters: 最大迭代次数\n",
    "    \"\"\"\n",
    "    m = x.shape[0]\n",
    "    cost = [cost_function(x, y, theta)]              # 保存迭代过程中的代价\n",
    "    _theta = theta.copy()                            # 拷贝一份\n",
    "    for _i in range(iters):\n",
    "        _theta  -= alpha * grad(x, y, _theta)        # 更新 theta 的值\n",
    "        if _i % 10000 == 0:                          # 每迭代 1 万次记录代价\n",
    "            cost.append(cost_function(x, y, _theta))\n",
    "    return _theta, cost"
   ]
  },
  {
   "cell_type": "code",
   "execution_count": 115,
   "metadata": {
    "scrolled": true
   },
   "outputs": [
    {
     "data": {
      "text/plain": [
       "array([[-19.08468795,   0.15767916,   0.15228738]])"
      ]
     },
     "execution_count": 115,
     "metadata": {},
     "output_type": "execute_result"
    }
   ],
   "source": [
    "best_theta, cost = grad_desc(x, y, theta, 0.001, 2000000)\n",
    "best_theta"
   ]
  },
  {
   "cell_type": "code",
   "execution_count": 116,
   "metadata": {},
   "outputs": [
    {
     "data": {
      "text/plain": [
       "0.21041324594328947"
      ]
     },
     "execution_count": 116,
     "metadata": {},
     "output_type": "execute_result"
    }
   ],
   "source": [
    "cost_function(x, y, best_theta)"
   ]
  },
  {
   "cell_type": "code",
   "execution_count": 117,
   "metadata": {},
   "outputs": [
    {
     "data": {
      "image/png": "[encoded data removed]",
      "text/plain": [
       "<Figure size 432x288 with 1 Axes>"
      ]
     },
     "metadata": {
      "needs_background": "light"
     },
     "output_type": "display_data"
    }
   ],
   "source": [
    "plt.plot(cost)\n",
    "plt.show()"
   ]
  },
  {
   "cell_type": "code",
   "execution_count": 118,
   "metadata": {},
   "outputs": [
    {
     "data": {
      "image/png": "[encoded data removed]",
      "text/plain": [
       "<Figure size 864x576 with 1 Axes>"
      ]
     },
     "metadata": {
      "needs_background": "light"
     },
     "output_type": "display_data"
    }
   ],
   "source": [
    "positive = np.array([item[0:2] for item in data if item[2] == 1])\n",
    "negative = np.array([item[0:2] for item in data if item[2] == 0])\n",
    "fig, ax = plt.subplots(figsize=(12,8))\n",
    "ax.scatter(positive[:, 0], positive[:, 1], s=50, c='b', marker='o', label='Admitted')\n",
    "ax.scatter(negative[:, 0], negative[:, 1], s=50, c='r', marker='x', label='Not Admitted')\n",
    "ax.legend()\n",
    "ax.set_xlabel('Exam 1 Score')\n",
    "ax.set_ylabel('Exam 2 Score')\n",
    "\n",
    "ex1 = np.arange(30, 100)\n",
    "ex2 = (-best_theta[0,0] - best_theta[0, 2] * ex1) / best_theta[0, 1]\n",
    "plt.plot(ex1, ex2)\n",
    "\n",
    "\n",
    "plt.show()"
   ]
  }
 ],
 "metadata": {
  "kernelspec": {
   "display_name": "ML",
   "language": "python",
   "name": "ml"
  },
  "language_info": {
   "codemirror_mode": {
    "name": "ipython",
    "version": 3
   },
   "file_extension": ".py",
   "mimetype": "text/x-python",
   "name": "python",
   "nbconvert_exporter": "python",
   "pygments_lexer": "ipython3",
   "version": "3.7.7"
  }
 },
 "nbformat": 4,
 "nbformat_minor": 2
}
