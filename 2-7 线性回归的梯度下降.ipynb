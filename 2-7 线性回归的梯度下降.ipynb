{
 "cells": [
  {
   "cell_type": "markdown",
   "metadata": {},
   "source": [
    "# 5-7 线性回归的梯度下降"
   ]
  },
  {
   "cell_type": "markdown",
   "metadata": {},
   "source": [
    "### 公式推导\n",
    "线性回归的数学模型如下：\n",
    "$$\n",
    "\\begin{align}\n",
    "h_{\\theta}(x) &= \\theta_0 + \\theta_1x \\\\\n",
    "J(\\theta) &= \\frac{1}{2m}\\sum_{i=1}^{m}{(h_{\\theta}(x^{(i)})-y^{(i)})^2}\n",
    "\\end{align}\n",
    "$$\n",
    "梯度下降算法迭代公式如下：\n",
    "$$\n",
    "\\theta_j:=\\theta_j-\\alpha\\frac{\\partial}{\\partial \\theta_j}J(\\theta_0, \\theta_1)\n",
    "$$\n",
    "要想运用上述梯度下降法的迭代公式，关键在于求出代价函数的导数，即：\n",
    "$$\n",
    "\\frac{\\partial}{\\partial \\theta_j}J(\\theta_0, \\theta_1) = \\frac{\\partial}{\\partial \\theta_j}\\frac{1}{2m}\\sum_{i=1}^{m}{(h_{\\theta}(x^{(i)})-y^{(i)})^2}\n",
    "$$\n",
    "分别对 $\\theta_0$ 和 $\\theta_1$ 求偏导可以得到：\n",
    "$$\n",
    "\\begin{align}\n",
    "\\frac{\\partial}{\\partial \\theta_0}J(\\theta_0, \\theta_1) \n",
    "&= \\frac{1}{m}\\sum_{i=1}^{m}{(h_{\\theta}(x^{(i)})-y^{(i)})} \\\\\n",
    "\\frac{\\partial}{\\partial \\theta_1}J(\\theta_0, \\theta_1) \n",
    "&= \\frac{1}{m}\\sum_{i=1}^{m}{((h_{\\theta}(x^{(i)})-y^{(i)}) \\cdot x^{(i)})}\n",
    "\\end{align}\n",
    "$$\n",
    "梯度下降迭代公式可以改写为：\n",
    "$$\n",
    "\\begin{align}\n",
    "\\theta_0 &:= \\theta_0 - \\alpha\\frac{1}{m}\\sum_{i=1}^{m}{(h_{\\theta}(x^{(i)})-y^{(i)})} \\\\\n",
    "\\theta_1 &:= \\theta_1 - \\alpha\\frac{1}{m}\\sum_{i=1}^{m}{((h_{\\theta}(x^{(i)})-y^{(i)}) \\cdot x^{(i)})}\n",
    "\\end{align}\n",
    "$$"
   ]
  },
  {
   "cell_type": "markdown",
   "metadata": {},
   "source": [
    "### 批量梯度下降法的概念\n",
    "\n",
    "上述梯度下降法的每一步中都用到了所有的训练样本，因此称这种梯度下降法为批量梯度下降法。"
   ]
  },
  {
   "cell_type": "markdown",
   "metadata": {},
   "source": [
    "### Python 实现线性回归的梯度下降"
   ]
  },
  {
   "cell_type": "markdown",
   "metadata": {},
   "source": [
    "#### 初始化训练样本数据和参数"
   ]
  },
  {
   "cell_type": "code",
   "execution_count": 1,
   "metadata": {},
   "outputs": [
    {
     "data": {
      "image/png": "[encoded data removed]",
      "text/plain": [
       "<Figure size 432x288 with 1 Axes>"
      ]
     },
     "metadata": {
      "needs_background": "light"
     },
     "output_type": "display_data"
    }
   ],
   "source": [
    "import numpy as np\n",
    "import matplotlib.pyplot as plt\n",
    "\n",
    "m = 20                    # 样本个数\n",
    "theta = np.zeros((2, 1))  # 初始值 (0,0)\n",
    "alpha = 0.01              # 学习率\n",
    "iters = 1000              # 最大迭代次数\n",
    "np.random.seed(1)         # 设置一个随机数种子使得每次运行生成的样本相同\n",
    "# 随机生成包含m个样本的数据集\n",
    "x = np.random.uniform(0, 5, m).reshape(m, 1)\n",
    "y = 6*x + np.random.uniform(0, 10, m).reshape(m, 1)\n",
    "# 为了直观感受生成的训练样本数据，下面将其绘制出来\n",
    "plt.scatter(x, y)\n",
    "plt.show()\n",
    "# 可以看到随机生成的点大致分布在一条直线的附近"
   ]
  },
  {
   "cell_type": "markdown",
   "metadata": {},
   "source": [
    "#### 实现1：不考虑矩阵运算优化，直接利用上述迭代公式进行计算\n",
    "$$\n",
    "\\begin{align}\n",
    "\\theta_0 &:= \\theta_0 - \\alpha\\frac{1}{m}\\sum_{i=1}^{m}{(h_{\\theta}(x^{(i)})-y^{(i)})} \\\\\n",
    "\\theta_1 &:= \\theta_1 - \\alpha\\frac{1}{m}\\sum_{i=1}^{m}{((h_{\\theta}(x^{(i)})-y^{(i)}) \\cdot x^{(i)})}\n",
    "\\end{align}\n",
    "$$"
   ]
  },
  {
   "cell_type": "code",
   "execution_count": 2,
   "metadata": {},
   "outputs": [
    {
     "name": "stdout",
     "output_type": "stream",
     "text": [
      "theta0 = [5.02840588]\n",
      "theta1 = [6.23956169]\n"
     ]
    },
    {
     "data": {
      "image/png": "[encoded data removed]",
      "text/plain": [
       "<Figure size 432x288 with 1 Axes>"
      ]
     },
     "metadata": {
      "needs_background": "light"
     },
     "output_type": "display_data"
    }
   ],
   "source": [
    "def grad_desc_normal(x, y, m, theta, alpha, iters):\n",
    "    \"\"\"普通的线性回归梯度下降\n",
    "    m: 样本数\n",
    "    theta: 初始值\n",
    "    alpha: 步长\n",
    "    iters: 最大迭代次数\n",
    "    \"\"\"\n",
    "    theta_copy = theta.copy() # 拷贝一份，避免改变传入的参数\n",
    "    \n",
    "    for _i in range(iters):\n",
    "        grad0 = 0\n",
    "        grad1 = 0\n",
    "        # 计算迭代公式中sum的部分\n",
    "        for i in range(m):\n",
    "            # 求 xi 点的预测值 h(xi)\n",
    "            h = theta_copy[0] + theta_copy[1] * x[i]\n",
    "            grad0 +=  h - y[i]\n",
    "            grad1 += (h - y[i]) * x[i]\n",
    "        # 更新 theta 的值\n",
    "        theta_copy[0] -= alpha * (1/m) * grad0\n",
    "        theta_copy[1] -= alpha * (1/m) * grad1\n",
    "        \n",
    "    return theta_copy\n",
    "\n",
    "best_theta = grad_desc_normal(x, y, m, theta, alpha, iters)\n",
    "print('theta0 =', best_theta[0])\n",
    "print('theta1 =', best_theta[1])\n",
    "plt.scatter(x, y)\n",
    "x1 = [0, 5]\n",
    "y1 = [best_theta[0], best_theta[0]+5*best_theta[1]]\n",
    "plt.plot(x1, y1)\n",
    "plt.show()"
   ]
  },
  {
   "cell_type": "markdown",
   "metadata": {},
   "source": [
    "#### 实现2：使用矩阵运算进行优化\n",
    "\n",
    "显然 grad_desc_normal 中运用了过多的 for 循环，计算效率并不高，尤其是在数据集较大时计算过程将非常耗费时间，因此我们考虑用向量化编程的方法优化该计算过程。\n",
    "\n",
    "首先考虑直线方程，如果 $X = [x_0, x_1]$（其中 $x_0^{(i)}$ 恒为1）则直线方程可以写为\n",
    "$$\n",
    "X\\theta = [x_0, x_1][\\theta_0,\\theta_1]^T\n",
    "$$\n",
    "此时代价函数可以写为：\n",
    "$$\n",
    "J(\\theta) = \\frac{1}{2m}(X\\theta-Y)^T(X\\theta-Y)\n",
    "$$\n",
    "对代价函数求梯度：\n",
    "$$\n",
    "\\nabla J(\\theta) = \\frac{1}{m}X^T(X\\theta-Y)\n",
    "$$\n",
    "求梯度这里用到了一个矩阵求导公式：\n",
    "$$\n",
    "\\frac{\\partial}{\\partial X}X^TX = 2X\n",
    "$$\n",
    "有了上述公式，梯度下降的迭代公式可以写为：\n",
    "$$\n",
    "\\theta := \\theta - \\alpha \\frac{1}{m}X^T(X\\theta-Y)\n",
    "$$\n",
    "利用该迭代公式重新实现线性回归的梯度下降"
   ]
  },
  {
   "cell_type": "code",
   "execution_count": 3,
   "metadata": {},
   "outputs": [
    {
     "name": "stdout",
     "output_type": "stream",
     "text": [
      "theta0 = [5.02840588]\n",
      "theta1 = [6.23956169]\n"
     ]
    },
    {
     "data": {
      "image/png": "[encoded data removed]",
      "text/plain": [
       "<Figure size 432x288 with 1 Axes>"
      ]
     },
     "metadata": {
      "needs_background": "light"
     },
     "output_type": "display_data"
    }
   ],
   "source": [
    "def grad_desc_better(x, y, m, theta, alpha, iters):\n",
    "    \"\"\"向量化编程实现的线性回归梯度下降\n",
    "    m: 样本数\n",
    "    theta: 初始值\n",
    "    alpha: 步长\n",
    "    iters: 最大迭代次数\n",
    "    \"\"\"\n",
    "    theta_copy = theta.copy()             # 拷贝一份，避免改变传入的参数\n",
    "    x = np.hstack((np.ones(x.shape), x))  # 补一列 1 构成 X\n",
    "    for _i in range(iters):\n",
    "        diff = np.dot(x, theta_copy) - y\n",
    "        grad = (1/m) * np.dot(x.T, diff)        # 梯度\n",
    "        theta_copy = theta_copy - alpha * grad  # 更新 theta 的值\n",
    "    return theta_copy\n",
    "\n",
    "best_theta = grad_desc_better(x, y, m, theta, alpha, iters)\n",
    "print('theta0 =', best_theta[0])\n",
    "print('theta1 =', best_theta[1])\n",
    "plt.scatter(x, y)\n",
    "x1 = [0, 5]\n",
    "y1 = [best_theta[0], best_theta[0]+5*best_theta[1]]\n",
    "plt.plot(x1, y1)\n",
    "plt.show()"
   ]
  },
  {
   "cell_type": "markdown",
   "metadata": {},
   "source": [
    "### 总结\n",
    "虽然用不用向量化编程结果似乎都一样，但是二者在运算速度上差异是非常大的，下面进行一个简单的耗时对比"
   ]
  },
  {
   "cell_type": "code",
   "execution_count": 4,
   "metadata": {},
   "outputs": [
    {
     "name": "stdout",
     "output_type": "stream",
     "text": [
      "135 ms ± 537 µs per loop (mean ± std. dev. of 7 runs, 10 loops each)\n",
      "6.1 ms ± 120 µs per loop (mean ± std. dev. of 7 runs, 100 loops each)\n"
     ]
    }
   ],
   "source": [
    "%timeit best_theta = grad_desc_normal(x, y, m, theta, alpha, iters)\n",
    "%timeit best_theta = grad_desc_better(x, y, m, theta, alpha, iters)"
   ]
  },
  {
   "cell_type": "markdown",
   "metadata": {},
   "source": [
    "可以看到，普通的线性回归梯度下降耗时125ms而优化后耗时仅为5毫秒，二者的差距是非常大的，因此向量化编程是非常有必要的。"
   ]
  }
 ],
 "metadata": {
  "kernelspec": {
   "display_name": "ML",
   "language": "python",
   "name": "ml"
  },
  "language_info": {
   "codemirror_mode": {
    "name": "ipython",
    "version": 3
   },
   "file_extension": ".py",
   "mimetype": "text/x-python",
   "name": "python",
   "nbconvert_exporter": "python",
   "pygments_lexer": "ipython3",
   "version": "3.7.7"
  }
 },
 "nbformat": 4,
 "nbformat_minor": 4
}
