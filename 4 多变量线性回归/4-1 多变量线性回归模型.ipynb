{
 "cells": [
  {
   "cell_type": "markdown",
   "metadata": {},
   "source": [
    "# 多变量线性回归模型\n",
    "\n",
    "单变量线性回归模型中我们仅用了住房大小这一个特征值来预测住房售价\n",
    "\n",
    "但是现在我们有更多的特征来预测房价：大小，卧室数，楼层数，年龄\n",
    "\n",
    "<img src=\"./img/4_1_p0.png\" style=\"zoom:70%\">"
   ]
  },
  {
   "cell_type": "markdown",
   "metadata": {},
   "source": [
    "### 符号定义\n",
    "\n",
    "- $n$ 特征数量\n",
    "- $x^{(i)}$ 第 $i$ 个样本的特征向量\n",
    "- $x_j^{(i)}$ 第 $i$ 个样本的第 $j$ 个特征"
   ]
  },
  {
   "cell_type": "markdown",
   "metadata": {},
   "source": [
    "### 假设 $h$\n",
    "$$\n",
    "h_{\\theta}(x) = \\theta_0 + \\theta_1x_1 + \\theta_2x_2 +...+\\theta_nx_n\n",
    "$$\n",
    "\n",
    "为了简化表达，我们令 $x_0 = 1$，上述假设$h$改写为：  \n",
    "$$\n",
    "h_{\\theta}(x) = \\theta_0x_0 + \\theta_1x_1 + \\theta_2x_2 +...+\\theta_nx_n\n",
    "$$\n",
    "\n",
    "此时 $x=[x_0,x_1,x_2,...,x_n]^T$ 为 $n+1$ 的特征向量，$\\theta = [\\theta_0, \\theta_1, \\theta_2,...,\\theta_n]^T$ 也是 $n+1$ 维的向量，此时假设$h$可以简写为：\n",
    "$$\n",
    "h_{\\theta}(x) = \\theta^Tx\n",
    "$$"
   ]
  }
 ],
 "metadata": {
  "kernelspec": {
   "display_name": "ML",
   "language": "python",
   "name": "ml"
  },
  "language_info": {
   "codemirror_mode": {
    "name": "ipython",
    "version": 3
   },
   "file_extension": ".py",
   "mimetype": "text/x-python",
   "name": "python",
   "nbconvert_exporter": "python",
   "pygments_lexer": "ipython3",
   "version": "3.7.7"
  }
 },
 "nbformat": 4,
 "nbformat_minor": 4
}
