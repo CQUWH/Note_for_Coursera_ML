{
 "cells": [
  {
   "cell_type": "markdown",
   "metadata": {},
   "source": [
    "# 多元线性回归的梯度下降"
   ]
  },
  {
   "cell_type": "markdown",
   "metadata": {},
   "source": [
    "### 代价函数\n",
    "多元线性回归的代价函数为\n",
    "$$\n",
    "J(\\theta) = \\frac{1}{2m}\\sum_{i=1}^n(h_{\\theta}(x^{(i)})-y^{(i)})^2\n",
    "$$\n",
    "其中 $h_{\\theta}(x) = \\theta^Tx$"
   ]
  },
  {
   "cell_type": "markdown",
   "metadata": {},
   "source": [
    "### 梯度下降迭代公式\n",
    "\n",
    "同单变量线性回归相似，梯度下降迭代公式如下\n",
    "$$\n",
    "\\theta_j := \\theta_j-\\alpha\\frac{\\partial}{\\partial \\theta_j}J(\\theta_j)\n",
    "$$\n",
    "即\n",
    "$$\n",
    "\\theta_j := \\theta_j-\\alpha\\frac{\\partial}{\\partial \\theta_j}\\frac{1}{2m}\\sum_{i=1}^n(h_{\\theta}(x^{(i)})-y^{(i)})^2\n",
    "$$\n",
    "求导后可得到\n",
    "$$\n",
    "\\theta_j := \\theta_j-\\alpha\\frac{1}{m}\\sum_{i=1}^n((h_{\\theta}(x^{(i)})-y^{(i)})\\cdot x_j^{(i)})\n",
    "$$\n",
    "其中 $j=0,1,2,...,n$"
   ]
  },
  {
   "cell_type": "markdown",
   "metadata": {},
   "source": [
    "### 多元线性回归实例\n",
    "\n",
    "数据集：\n",
    "\n",
    "|Size|Number of bedrooms|Price|\n",
    "|:---:|:----:|:-----:|\n",
    "|2104|3|399900|\n",
    "|1600|3|329900|\n",
    "|2400|3|369000|\n",
    "|1416|2|232000|\n",
    "|...|...|...|\n",
    "\n",
    "见文件 [data.csv](./data.csv)"
   ]
  },
  {
   "cell_type": "code",
   "execution_count": 1,
   "metadata": {},
   "outputs": [
    {
     "data": {
      "text/plain": [
       "array([[2.104e+03, 3.000e+00, 3.999e+05],\n",
       "       [1.600e+03, 3.000e+00, 3.299e+05],\n",
       "       [2.400e+03, 3.000e+00, 3.690e+05],\n",
       "       [1.416e+03, 2.000e+00, 2.320e+05],\n",
       "       [3.000e+03, 4.000e+00, 5.399e+05]])"
      ]
     },
     "execution_count": 1,
     "metadata": {},
     "output_type": "execute_result"
    }
   ],
   "source": [
    "# 加载第三方包和数据集\n",
    "import numpy as np\n",
    "import matplotlib.pyplot as plt\n",
    "from scipy import stats\n",
    "\n",
    "data_path = './data.csv'\n",
    "data = np.loadtxt(data_path, delimiter=',', dtype=np.double)\n",
    "data[0:5, :]"
   ]
  },
  {
   "cell_type": "markdown",
   "metadata": {},
   "source": [
    "### 标准化\n",
    "可以看到不同特征值的数量级差异是非常大的，这时候可以采用z-score标准化将数据进行标准化处理\n",
    "\n",
    "z-score 标准化公式：\n",
    "$$\n",
    "y=\\frac{x-mean(X)}{std(X)}\n",
    "$$\n",
    "其中 mean为 $X$ 的平均值，std为 $X$ 的标准差"
   ]
  },
  {
   "cell_type": "code",
   "execution_count": 2,
   "metadata": {},
   "outputs": [
    {
     "data": {
      "text/plain": [
       "array([[ 0.13000987, -0.22367519,  0.47574687],\n",
       "       [-0.50418984, -0.22367519, -0.08407444],\n",
       "       [ 0.50247636, -0.22367519,  0.22862575],\n",
       "       [-0.73572306, -1.53776691, -0.86702453],\n",
       "       [ 1.25747602,  1.09041654,  1.59538948]])"
      ]
     },
     "execution_count": 2,
     "metadata": {},
     "output_type": "execute_result"
    }
   ],
   "source": [
    "# z-score 标准化\n",
    "normalized_data = stats.zscore(data, axis=0, ddof=1)\n",
    "normalized_data[0:5, :]"
   ]
  },
  {
   "cell_type": "markdown",
   "metadata": {},
   "source": [
    "### 训练数据和参数的"
   ]
  },
  {
   "cell_type": "code",
   "execution_count": 3,
   "metadata": {},
   "outputs": [
    {
     "name": "stdout",
     "output_type": "stream",
     "text": [
      "[ 1.          0.13000987 -0.22367519]\n",
      "[0.47574687]\n"
     ]
    }
   ],
   "source": [
    "alpha = 0.01                           # 学习率\n",
    "iters = 500                            # 迭代次数\n",
    "theta = np.zeros((1, x.shape[1]))      # [[0, 0, 0]]\n",
    "# 从数据集中提取出 x, y\n",
    "x = normalized_data[:,0:2]\n",
    "y = normalized_data[:,2:3]\n",
    "# 注意 x 应该补一列 1\n",
    "x = np.hstack((np.ones(y.shape), x))\n",
    "print(x[0])\n",
    "print(y[0])"
   ]
  },
  {
   "cell_type": "code",
   "execution_count": 4,
   "metadata": {},
   "outputs": [],
   "source": [
    "# 计算代价函数值\n",
    "def cost_func(x, y, theta):\n",
    "    m = x.shape[0]\n",
    "    inner = np.dot(x, theta.T) - y\n",
    "    squre_sum = np.dot(inner.T, inner).item()    # .item 将 1x1 的矩阵转换为标量\n",
    "    return squre_sum / (2 * m)"
   ]
  },
  {
   "cell_type": "code",
   "execution_count": 14,
   "metadata": {},
   "outputs": [],
   "source": [
    "# 梯度下降\n",
    "def grad_desc(x, y, theta, alpha, iters):\n",
    "    \"\"\"\n",
    "    theta: 初始值\n",
    "    alpha: 学习率\n",
    "    iters: 最大迭代次数\n",
    "    \"\"\"\n",
    "    m = x.shape[0]\n",
    "    cost = [cost_func(x, y, theta)]              # 保存迭代过程中的代价\n",
    "    _theta = theta.copy()                        # 拷贝一份\n",
    "    for _i in range(iters):\n",
    "        inner = np.dot(x, _theta.T) - y\n",
    "        gradient = (1/m) * np.dot(inner.T, x)    # 梯度\n",
    "        _theta = _theta - alpha * gradient       # 更新 theta 的值\n",
    "        cost.append(cost_func(x, y, _theta))\n",
    "    return _theta, cost"
   ]
  },
  {
   "cell_type": "code",
   "execution_count": 15,
   "metadata": {
    "scrolled": true
   },
   "outputs": [
    {
     "data": {
      "text/plain": [
       "array([[-1.21480840e-16,  8.30383883e-01,  8.23982853e-04]])"
      ]
     },
     "execution_count": 15,
     "metadata": {},
     "output_type": "execute_result"
    }
   ],
   "source": [
    "# 测试效果\n",
    "best_theta, cost = grad_desc(x, y, theta, alpha, iters)\n",
    "best_theta"
   ]
  },
  {
   "cell_type": "code",
   "execution_count": 16,
   "metadata": {},
   "outputs": [
    {
     "data": {
      "image/png": "[encoded data removed]",
      "text/plain": [
       "<Figure size 432x288 with 1 Axes>"
      ]
     },
     "metadata": {
      "needs_background": "light"
     },
     "output_type": "display_data"
    }
   ],
   "source": [
    "plt.plot(cost)\n",
    "plt.show()"
   ]
  },
  {
   "cell_type": "markdown",
   "metadata": {},
   "source": [
    "可以看到代价函数值随着迭代的过程在逐渐下降"
   ]
  }
 ],
 "metadata": {
  "kernelspec": {
   "display_name": "ML",
   "language": "python",
   "name": "ml"
  },
  "language_info": {
   "codemirror_mode": {
    "name": "ipython",
    "version": 3
   },
   "file_extension": ".py",
   "mimetype": "text/x-python",
   "name": "python",
   "nbconvert_exporter": "python",
   "pygments_lexer": "ipython3",
   "version": "3.7.7"
  }
 },
 "nbformat": 4,
 "nbformat_minor": 4
}
