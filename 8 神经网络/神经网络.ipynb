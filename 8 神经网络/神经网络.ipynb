{
 "cells": [
  {
   "cell_type": "markdown",
   "metadata": {},
   "source": [
    "## 8-1 非线性假设"
   ]
  },
  {
   "cell_type": "markdown",
   "metadata": {},
   "source": [
    "线性回归或者逻辑回归中，当特征值太多时计算的负荷会非常大。\n",
    "\n",
    "例如在图像问题上，多项式模型的项数太多以至于普通的逻辑回归无法处理，这时候需要神经网络"
   ]
  },
  {
   "cell_type": "markdown",
   "metadata": {},
   "source": [
    "## 8-2 神经元和大脑"
   ]
  },
  {
   "cell_type": "markdown",
   "metadata": {},
   "source": [
    "神经网络是一种古老的算法\n",
    "\n",
    "模仿大脑的算法"
   ]
  },
  {
   "cell_type": "markdown",
   "metadata": {},
   "source": [
    "## 8-3 模型表示1"
   ]
  },
  {
   "cell_type": "markdown",
   "metadata": {},
   "source": [
    "神经元：\n",
    "<img src=\"./img/神经元.png\" style=\"zoom:60%\">\n",
    "神经元包含几个部分\n",
    "- 处理单元/神经核\n",
    "- 输入/树突\n",
    "- 输出/轴突\n",
    "\n",
    "神经网络是大量神经元相互链接并通过电脉冲（动作电位）来交流的一个网络"
   ]
  },
  {
   "cell_type": "markdown",
   "metadata": {},
   "source": [
    "逻辑回归的神经元\n",
    "<img src=\"./img/逻辑回归的神经元.png\">"
   ]
  },
  {
   "cell_type": "markdown",
   "metadata": {},
   "source": [
    "激活函数：非线性函数\n",
    "\n",
    "模型参数又称为权重"
   ]
  },
  {
   "cell_type": "markdown",
   "metadata": {},
   "source": [
    "神经网络\n",
    "<img src=\"./img/神经网络.png\">"
   ]
  },
  {
   "cell_type": "markdown",
   "metadata": {},
   "source": [
    "- 第一层：输入层\n",
    "- 中间层：隐藏层（隐藏层可以有多层）\n",
    "- 最后一层：输出层"
   ]
  },
  {
   "cell_type": "markdown",
   "metadata": {},
   "source": [
    "### 符号约定\n",
    "- $a_i^{(j)}$ 表示第 $j$ 层第 $i$ 个激活单元的输出\n",
    "- $\\Theta^{(j)}$ 表示从第 $j$ 层映射到 $j+1$ 层的权重**矩阵**"
   ]
  },
  {
   "cell_type": "markdown",
   "metadata": {},
   "source": [
    "上述神经网络激活单元和输出分别表达为\n",
    "\n",
    "$$\n",
    "\\begin{align}\n",
    "a_1^{(2)} &= g(\\Theta_{10}^{(1)}x_0+\\Theta_{11}^{(1)}x_1+\\Theta_{12}^{(1)}x_2+\\Theta_{13}^{(1)}x_3) \\\\\n",
    "a_2^{(2)} &= g(\\Theta_{20}^{(1)}x_0+\\Theta_{21}^{(1)}x_1+\\Theta_{22}^{(1)}x_2+\\Theta_{23}^{(1)}x_3) \\\\\n",
    "a_3^{(2)} &= g(\\Theta_{30}^{(1)}x_0+\\Theta_{31}^{(1)}x_1+\\Theta_{32}^{(1)}x_2+\\Theta_{33}^{(1)}x_3) \\\\\n",
    "h_{\\Theta}(x) &= a_1^{(3)} = g(\\Theta_{10}^{(2)}a_0^{(2)}+\\Theta_{11}^{(2)}a_1^{(2)}+\\Theta_{12}^{(2)}a_2^{(2)}+\\Theta_{13}^{(2)}a_2^{(3)})\n",
    "\\end{align}\n",
    "$$"
   ]
  },
  {
   "cell_type": "markdown",
   "metadata": {},
   "source": [
    "如果神经网络的第 $j$ 层有 $s_j$ 个单元，在第 $j+1$ 层有 $s_{j+1}$ 个单元，权重矩阵的大小为 $s_{j+1}\\times (s_j + 1)$   \n",
    "例如上述神经网络第1层到第2层的权重矩阵为 $\\mathbb{R}^{3\\times 4}$"
   ]
  },
  {
   "cell_type": "markdown",
   "metadata": {},
   "source": [
    "## 8-4 模型表示2"
   ]
  },
  {
   "cell_type": "markdown",
   "metadata": {},
   "source": [
    "### 向量化前向传播\n",
    "\n",
    "定义一个中间值 $z_i^{(j)}$ 表示第 $j$ 层第 $i$ 个激活单元的输入\n",
    "\n",
    "$$\n",
    "\\begin{align}\n",
    "z_1^{(2)} &= \\Theta_{10}^{(1)}x_0+\\Theta_{11}^{(1)}x_1+\\Theta_{12}^{(1)}x_2+\\Theta_{13}^{(1)}x_3 \\\\\n",
    "z_2^{(2)} &= \\Theta_{20}^{(1)}x_0+\\Theta_{21}^{(1)}x_1+\\Theta_{22}^{(1)}x_2+\\Theta_{23}^{(1)}x_3 \\\\\n",
    "z_3^{(2)} &= \\Theta_{30}^{(1)}x_0+\\Theta_{31}^{(1)}x_1+\\Theta_{32}^{(1)}x_2+\\Theta_{33}^{(1)}x_3 \\\\\n",
    "\\end{align}\n",
    "$$\n",
    "\n",
    "令\n",
    "$$\n",
    " x = \\left[\n",
    " \\begin{matrix}\n",
    "   x_0 \\\\\n",
    "   x_1 \\\\\n",
    "   x_2 \\\\\n",
    "   x_3\n",
    "  \\end{matrix}\n",
    "  \\right]\n",
    "\\quad\n",
    "z^{(2)} = \\left[\n",
    " \\begin{matrix}\n",
    "   z_1^{(2)} \\\\\n",
    "   z_2^{(2)} \\\\\n",
    "   z_3^{(2)}\n",
    "  \\end{matrix}\n",
    "  \\right]\n",
    "$$\n",
    "\n",
    "则有\n",
    "$$\n",
    "z^{(2)} = \\Theta^{(1)}x \\\\\n",
    "a^{(2)} = g(z^{(2)})\n",
    "$$\n",
    "\n",
    "增加一个 $a_0^{(2)} = 1$，则有\n",
    "$$\n",
    "\\begin{align}\n",
    "z^{(3)} &= \\Theta^{(2)}a^{(2)} \\\\\n",
    "h_{\\Theta}(x) &= a^{(3)} = g(z^{(3)})\n",
    "\\end{align}\n",
    "$$\n",
    "\n",
    "上述计算过程又称为**前向传播**"
   ]
  },
  {
   "cell_type": "markdown",
   "metadata": {},
   "source": [
    "## 8-5 直观理解1\n",
    "\n"
   ]
  },
  {
   "cell_type": "markdown",
   "metadata": {},
   "source": [
    "神经网络中，单层神经元（无中间层）的计算可用来表示逻辑运算，比如逻辑与(AND)、逻辑或(OR)。\n",
    "\n",
    "例如我们可以用这样一个神经网络表示 AND 函数：\n",
    "<img src=\"./img/AND.png\" style=\"zoom:60%\">\n"
   ]
  },
  {
   "cell_type": "markdown",
   "metadata": {},
   "source": [
    "其中 $\\theta_0 = −30, \\theta_1 = 20, \\theta_2 = 20$ 我们的输出函数 $h_{\\theta}(x)$ 即为：$h_{\\theta}(x) = 𝑔(−30 + 20x_1+20x_2)$，更具 sigmoid 函数的特征，我们可以得到如下真值表\n",
    "\n",
    "|$x_1$|$x_2$|$h_{\\theta}(x)$|\n",
    "|:----:|:----:|:----:|\n",
    "|$0$|$0$|$g(-30)\\approx 0$|\n",
    "|$0$|$1$|$g(-10)\\approx 0$|\n",
    "|$1$|$0$|$g(-10)\\approx 0$|\n",
    "|$1$|$1$|$g(10)\\approx 1$|"
   ]
  },
  {
   "cell_type": "markdown",
   "metadata": {},
   "source": [
    "同理，我们可以用这样一个神经网络来表示 OR 函数：\n",
    "\n",
    "<img src=\"./img/OR.png\" style=\"zoom:60%\">\n",
    "\n",
    "用一个神经网络表示 NOT 函数：\n"
   ]
  },
  {
   "cell_type": "markdown",
   "metadata": {},
   "source": [
    "## 8-6 直观理解2"
   ]
  },
  {
   "cell_type": "markdown",
   "metadata": {},
   "source": [
    "下图的神经元（三个权重分别为-30，20，20）可以被视为作用同于逻辑与（AND）：\n",
    "<img src=\"./img/1.png\">\n",
    "下图的神经元（三个权重分别为-10，20，20）可以被视为作用等同于逻辑或（OR）：\n",
    "<img src=\"./img/2.png\">\n",
    "下图的神经元（两个权重分别为 10，-20）可以被视为作用等同于逻辑非（NOT）：\n",
    "<img src=\"./img/3.png\">"
   ]
  },
  {
   "cell_type": "markdown",
   "metadata": {},
   "source": [
    "使用上面的三个神经元就能构造异或XNOR运算的神经网络了：\n",
    "<img src=\"./img/XNOR.png\" style=\"zoom:60%\">"
   ]
  },
  {
   "cell_type": "markdown",
   "metadata": {},
   "source": [
    "## 8-7 多元分类"
   ]
  },
  {
   "cell_type": "markdown",
   "metadata": {},
   "source": [
    "多元分类输出层需要多个单元"
   ]
  }
 ],
 "metadata": {
  "kernelspec": {
   "display_name": "ML",
   "language": "python",
   "name": "ml"
  },
  "language_info": {
   "codemirror_mode": {
    "name": "ipython",
    "version": 3
   },
   "file_extension": ".py",
   "mimetype": "text/x-python",
   "name": "python",
   "nbconvert_exporter": "python",
   "pygments_lexer": "ipython3",
   "version": "3.7.7"
  }
 },
 "nbformat": 4,
 "nbformat_minor": 2
}
