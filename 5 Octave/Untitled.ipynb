{
 "cells": [
  {
   "cell_type": "code",
   "execution_count": 1,
   "metadata": {},
   "outputs": [
    {
     "name": "stdout",
     "output_type": "stream",
     "text": [
      "ans =  11\r\n"
     ]
    }
   ],
   "source": [
    "5 + 6"
   ]
  },
  {
   "cell_type": "code",
   "execution_count": 2,
   "metadata": {},
   "outputs": [
    {
     "name": "stdout",
     "output_type": "stream",
     "text": [
      "ans =  1\r\n"
     ]
    }
   ],
   "source": [
    "3 -2 "
   ]
  },
  {
   "cell_type": "code",
   "execution_count": 3,
   "metadata": {},
   "outputs": [
    {
     "name": "stdout",
     "output_type": "stream",
     "text": [
      "ans =  40\r\n"
     ]
    }
   ],
   "source": [
    "5 * 8"
   ]
  },
  {
   "cell_type": "code",
   "execution_count": 4,
   "metadata": {},
   "outputs": [
    {
     "name": "stdout",
     "output_type": "stream",
     "text": [
      "ans =  0.50000\r\n"
     ]
    }
   ],
   "source": [
    "1 /2 "
   ]
  },
  {
   "cell_type": "code",
   "execution_count": 5,
   "metadata": {},
   "outputs": [
    {
     "name": "stdout",
     "output_type": "stream",
     "text": [
      "ans =  64\r\n"
     ]
    }
   ],
   "source": [
    "2 ^ 6"
   ]
  },
  {
   "cell_type": "code",
   "execution_count": 6,
   "metadata": {},
   "outputs": [
    {
     "name": "stdout",
     "output_type": "stream",
     "text": [
      "ans = 0\r\n"
     ]
    }
   ],
   "source": [
    "1 == 2"
   ]
  },
  {
   "cell_type": "code",
   "execution_count": 7,
   "metadata": {},
   "outputs": [
    {
     "name": "stdout",
     "output_type": "stream",
     "text": [
      "ans =  1\r\n"
     ]
    }
   ],
   "source": [
    "1 ~= 2"
   ]
  },
  {
   "cell_type": "code",
   "execution_count": 9,
   "metadata": {},
   "outputs": [
    {
     "name": "stdout",
     "output_type": "stream",
     "text": [
      "ans = 0\r\n"
     ]
    }
   ],
   "source": [
    "1 && 0"
   ]
  },
  {
   "cell_type": "code",
   "execution_count": 10,
   "metadata": {},
   "outputs": [
    {
     "name": "stdout",
     "output_type": "stream",
     "text": [
      "ans =  1\r\n"
     ]
    }
   ],
   "source": [
    "1 || 0"
   ]
  },
  {
   "cell_type": "code",
   "execution_count": 11,
   "metadata": {},
   "outputs": [
    {
     "name": "stdout",
     "output_type": "stream",
     "text": [
      "ans =  1\r\n"
     ]
    }
   ],
   "source": [
    "xor(1, 0)"
   ]
  },
  {
   "cell_type": "code",
   "execution_count": 12,
   "metadata": {},
   "outputs": [],
   "source": [
    "% PS1('>> ') 可以用来修改提示符"
   ]
  },
  {
   "cell_type": "code",
   "execution_count": 13,
   "metadata": {},
   "outputs": [],
   "source": [
    "a = 3;"
   ]
  },
  {
   "cell_type": "code",
   "execution_count": 14,
   "metadata": {},
   "outputs": [
    {
     "name": "stdout",
     "output_type": "stream",
     "text": [
      "a =  3\r\n"
     ]
    }
   ],
   "source": [
    "a"
   ]
  },
  {
   "cell_type": "code",
   "execution_count": 15,
   "metadata": {},
   "outputs": [],
   "source": [
    "b = 'hi';"
   ]
  },
  {
   "cell_type": "code",
   "execution_count": 16,
   "metadata": {},
   "outputs": [
    {
     "name": "stdout",
     "output_type": "stream",
     "text": [
      "b = hi\r\n"
     ]
    }
   ],
   "source": [
    "b"
   ]
  },
  {
   "cell_type": "code",
   "execution_count": 17,
   "metadata": {},
   "outputs": [
    {
     "name": "stdout",
     "output_type": "stream",
     "text": [
      "c =  1\r\n"
     ]
    }
   ],
   "source": [
    "c = (3 >= 1);\n",
    "c"
   ]
  },
  {
   "cell_type": "code",
   "execution_count": 19,
   "metadata": {},
   "outputs": [],
   "source": [
    "a = pi;"
   ]
  },
  {
   "cell_type": "code",
   "execution_count": 20,
   "metadata": {},
   "outputs": [
    {
     "name": "stdout",
     "output_type": "stream",
     "text": [
      " 3.1416\r\n"
     ]
    }
   ],
   "source": [
    "disp(a)"
   ]
  },
  {
   "cell_type": "code",
   "execution_count": 22,
   "metadata": {},
   "outputs": [
    {
     "name": "stdout",
     "output_type": "stream",
     "text": [
      "2 decimals: 3.14\n",
      "6 decimals: 3.141593\n"
     ]
    }
   ],
   "source": [
    "disp(sprintf('2 decimals: %0.2f', a))\n",
    "disp(sprintf('6 decimals: %0.6f', a))"
   ]
  },
  {
   "cell_type": "code",
   "execution_count": 23,
   "metadata": {},
   "outputs": [
    {
     "name": "stdout",
     "output_type": "stream",
     "text": [
      "a =  3.14159265358979\r\n"
     ]
    }
   ],
   "source": [
    "format long\n",
    "a"
   ]
  },
  {
   "cell_type": "code",
   "execution_count": 24,
   "metadata": {},
   "outputs": [
    {
     "name": "stdout",
     "output_type": "stream",
     "text": [
      "a =  3.1416\r\n"
     ]
    }
   ],
   "source": [
    "format short\n",
    "a"
   ]
  },
  {
   "cell_type": "code",
   "execution_count": 26,
   "metadata": {},
   "outputs": [
    {
     "name": "stdout",
     "output_type": "stream",
     "text": [
      "A =\r\n",
      "\r\n",
      "   1   2\r\n",
      "   3   4\r\n",
      "   5   6\r\n",
      "\r\n"
     ]
    }
   ],
   "source": [
    "A = [1 2; 3 4; 5 6]"
   ]
  },
  {
   "cell_type": "code",
   "execution_count": 27,
   "metadata": {},
   "outputs": [
    {
     "name": "stdout",
     "output_type": "stream",
     "text": [
      "v =\r\n",
      "\r\n",
      "   1   2   3\r\n",
      "\r\n"
     ]
    }
   ],
   "source": [
    "v = [1 2 3]"
   ]
  },
  {
   "cell_type": "code",
   "execution_count": 28,
   "metadata": {},
   "outputs": [
    {
     "name": "stdout",
     "output_type": "stream",
     "text": [
      "v =\r\n",
      "\r\n",
      " Columns 1 through 8:\r\n",
      "\r\n",
      "    1.0000    1.1000    1.2000    1.3000    1.4000    1.5000    1.6000    1.7000\r\n",
      "\r\n",
      " Columns 9 through 11:\r\n",
      "\r\n",
      "    1.8000    1.9000    2.0000\r\n",
      "\r\n"
     ]
    }
   ],
   "source": [
    "v = 1:0.1:2"
   ]
  },
  {
   "cell_type": "code",
   "execution_count": 29,
   "metadata": {},
   "outputs": [
    {
     "name": "stdout",
     "output_type": "stream",
     "text": [
      "v =\r\n",
      "\r\n",
      "   1   2   3   4   5   6\r\n",
      "\r\n"
     ]
    }
   ],
   "source": [
    "v = 1:6"
   ]
  },
  {
   "cell_type": "code",
   "execution_count": 30,
   "metadata": {},
   "outputs": [
    {
     "name": "stdout",
     "output_type": "stream",
     "text": [
      "ans =\r\n",
      "\r\n",
      "   1   1   1\r\n",
      "   1   1   1\r\n",
      "\r\n"
     ]
    }
   ],
   "source": [
    "ones(2,3)"
   ]
  },
  {
   "cell_type": "code",
   "execution_count": 31,
   "metadata": {},
   "outputs": [
    {
     "name": "stdout",
     "output_type": "stream",
     "text": [
      "ans =\r\n",
      "\r\n",
      "   2   2   2\r\n",
      "   2   2   2\r\n",
      "\r\n"
     ]
    }
   ],
   "source": [
    "2*ones(2,3)"
   ]
  },
  {
   "cell_type": "code",
   "execution_count": 32,
   "metadata": {},
   "outputs": [
    {
     "name": "stdout",
     "output_type": "stream",
     "text": [
      "ans =\r\n",
      "\r\n",
      "   1   1   1\r\n",
      "\r\n"
     ]
    }
   ],
   "source": [
    "ones(1,3)"
   ]
  },
  {
   "cell_type": "code",
   "execution_count": 33,
   "metadata": {},
   "outputs": [
    {
     "name": "stdout",
     "output_type": "stream",
     "text": [
      "ans =\r\n",
      "\r\n",
      "   0   0   0\r\n",
      "\r\n"
     ]
    }
   ],
   "source": [
    "zeros(1,3)"
   ]
  },
  {
   "cell_type": "code",
   "execution_count": 34,
   "metadata": {},
   "outputs": [
    {
     "name": "stdout",
     "output_type": "stream",
     "text": [
      "ans =\r\n",
      "\r\n",
      "   0.40637   0.32411   0.40144\r\n",
      "\r\n"
     ]
    }
   ],
   "source": [
    "rand(1,3)"
   ]
  },
  {
   "cell_type": "code",
   "execution_count": 35,
   "metadata": {},
   "outputs": [
    {
     "name": "stdout",
     "output_type": "stream",
     "text": [
      "ans =\r\n",
      "\r\n",
      "   0.326397   0.539143   0.194706\r\n",
      "   0.632816   0.236065   0.670315\r\n",
      "   0.438367   0.010156   0.830230\r\n",
      "\r\n"
     ]
    }
   ],
   "source": [
    "rand(3,3)"
   ]
  },
  {
   "cell_type": "code",
   "execution_count": 36,
   "metadata": {},
   "outputs": [
    {
     "name": "stdout",
     "output_type": "stream",
     "text": [
      "ans =\r\n",
      "\r\n",
      "   0.40654   2.88394   0.47587\r\n",
      "\r\n"
     ]
    }
   ],
   "source": [
    "randn(1,3) % 高斯分布"
   ]
  },
  {
   "cell_type": "code",
   "execution_count": 38,
   "metadata": {},
   "outputs": [
    {
     "data": {
      "image/png": "[encoded data removed]",
      "text/plain": [
       "<IPython.core.display.Image object>"
      ]
     },
     "metadata": {},
     "output_type": "display_data"
    }
   ],
   "source": [
    "w = -6 + sqrt(10)*(randn(1, 10000));\n",
    "hist(w)"
   ]
  },
  {
   "cell_type": "code",
   "execution_count": 39,
   "metadata": {},
   "outputs": [
    {
     "data": {
      "image/png": "[encoded data removed]",
      "text/plain": [
       "<IPython.core.display.Image object>"
      ]
     },
     "metadata": {},
     "output_type": "display_data"
    }
   ],
   "source": [
    "hist(w, 50)"
   ]
  },
  {
   "cell_type": "code",
   "execution_count": 40,
   "metadata": {},
   "outputs": [
    {
     "data": {
      "image/png": "[encoded data removed]",
      "text/plain": [
       "<IPython.core.display.Image object>"
      ]
     },
     "metadata": {},
     "output_type": "display_data"
    }
   ],
   "source": [
    "hist(w, 100)"
   ]
  },
  {
   "cell_type": "code",
   "execution_count": 42,
   "metadata": {},
   "outputs": [
    {
     "name": "stdout",
     "output_type": "stream",
     "text": [
      "ans =\r\n",
      "\r\n",
      "Diagonal Matrix\r\n",
      "\r\n",
      "   1   0   0   0\r\n",
      "   0   1   0   0\r\n",
      "   0   0   1   0\r\n",
      "   0   0   0   1\r\n",
      "\r\n"
     ]
    }
   ],
   "source": [
    "eye(4)"
   ]
  },
  {
   "cell_type": "code",
   "execution_count": 44,
   "metadata": {},
   "outputs": [
    {
     "name": "stdout",
     "output_type": "stream",
     "text": [
      "'eye' is a built-in function from the file libinterp/corefcn/data.cc\r\n",
      "\r\n",
      " -- Built-in Function: eye (N)\r\n",
      " -- Built-in Function: eye (M, N)\r\n",
      " -- Built-in Function: eye ([M N])\r\n",
      " -- Built-in Function: eye (..., CLASS)\r\n",
      "     Return an identity matrix.  If invoked with a single scalar\r\n",
      "     argument N, return a square NxN identity matrix.  If supplied two\r\n",
      "     scalar arguments (M, N), 'eye' takes them to be the number of rows\r\n",
      "     and columns.  If given a vector with two elements, 'eye' uses the\r\n",
      "     values of the elements as the number of rows and columns,\r\n",
      "     respectively.  For example:\r\n",
      "\r\n",
      "          eye (3)\r\n",
      "           =>  1  0  0\r\n",
      "               0  1  0\r\n",
      "               0  0  1\r\n",
      "\r\n",
      "     The following expressions all produce the same result:\r\n",
      "\r\n",
      "          eye (2)\r\n",
      "          ==\r\n",
      "          eye (2, 2)\r\n",
      "          ==\r\n",
      "          eye (size ([1, 2; 3, 4])\r\n",
      "\r\n",
      "     The optional argument CLASS, allows 'eye' to return an array of the\r\n",
      "     specified type, like\r\n",
      "\r\n",
      "          val = zeros (n,m, \"uint8\")\r\n",
      "\r\n",
      "     Calling 'eye' with no arguments is equivalent to calling it with an\r\n",
      "     argument of 1.  Any negative dimensions are treated as zero.  These\r\n",
      "     odd definitions are for compatibility with MATLAB.\r\n",
      "\r\n",
      "     See also: speye, ones, zeros.\r\n",
      "\r\n",
      "\r\n",
      "Additional help for built-in functions and operators is\r\n",
      "available in the online version of the manual.  Use the command\r\n",
      "'doc <topic>' to search the manual index.\r\n",
      "\r\n",
      "Help and information about Octave is also available on the WWW\r\n",
      "at http://www.octave.org and via the help@octave.org\r\n",
      "mailing list.\r\n"
     ]
    }
   ],
   "source": [
    "help eye"
   ]
  },
  {
   "cell_type": "code",
   "execution_count": 45,
   "metadata": {},
   "outputs": [
    {
     "name": "stdout",
     "output_type": "stream",
     "text": [
      "A =\r\n",
      "\r\n",
      "   1   2\r\n",
      "   3   4\r\n",
      "   5   6\r\n",
      "\r\n"
     ]
    }
   ],
   "source": [
    "A = [1 2; 3 4; 5 6]"
   ]
  },
  {
   "cell_type": "code",
   "execution_count": 47,
   "metadata": {},
   "outputs": [
    {
     "name": "stdout",
     "output_type": "stream",
     "text": [
      "ans =\r\n",
      "\r\n",
      "   3   2\r\n",
      "\r\n"
     ]
    }
   ],
   "source": [
    "size(A)"
   ]
  },
  {
   "cell_type": "code",
   "execution_count": 48,
   "metadata": {},
   "outputs": [
    {
     "name": "stdout",
     "output_type": "stream",
     "text": [
      "sz =\r\n",
      "\r\n",
      "   3   2\r\n",
      "\r\n"
     ]
    }
   ],
   "source": [
    "sz = size(A)"
   ]
  },
  {
   "cell_type": "code",
   "execution_count": 49,
   "metadata": {},
   "outputs": [
    {
     "name": "stdout",
     "output_type": "stream",
     "text": [
      "ans =\r\n",
      "\r\n",
      "   1   2\r\n",
      "\r\n"
     ]
    }
   ],
   "source": [
    "size(sz)"
   ]
  },
  {
   "cell_type": "code",
   "execution_count": 50,
   "metadata": {},
   "outputs": [
    {
     "name": "stdout",
     "output_type": "stream",
     "text": [
      "ans =  3\r\n"
     ]
    }
   ],
   "source": [
    "size(A, 1)"
   ]
  },
  {
   "cell_type": "code",
   "execution_count": 51,
   "metadata": {},
   "outputs": [
    {
     "name": "stdout",
     "output_type": "stream",
     "text": [
      "ans =  2\r\n"
     ]
    }
   ],
   "source": [
    "size(A, 2)"
   ]
  },
  {
   "cell_type": "code",
   "execution_count": 54,
   "metadata": {},
   "outputs": [
    {
     "name": "stdout",
     "output_type": "stream",
     "text": [
      "v =\r\n",
      "\r\n",
      "   1   2   3   4\r\n",
      "\r\n"
     ]
    }
   ],
   "source": [
    "v = [1 2 3 4]"
   ]
  },
  {
   "cell_type": "code",
   "execution_count": 55,
   "metadata": {},
   "outputs": [
    {
     "name": "stdout",
     "output_type": "stream",
     "text": [
      "ans =  4\r\n"
     ]
    }
   ],
   "source": [
    "length(v)"
   ]
  },
  {
   "cell_type": "code",
   "execution_count": 58,
   "metadata": {},
   "outputs": [
    {
     "name": "stdout",
     "output_type": "stream",
     "text": [
      "ans =  3\r\n"
     ]
    }
   ],
   "source": [
    "length(A) % 长的那个维度"
   ]
  },
  {
   "cell_type": "code",
   "execution_count": 57,
   "metadata": {},
   "outputs": [
    {
     "name": "stdout",
     "output_type": "stream",
     "text": [
      "ans =  3\r\n"
     ]
    }
   ],
   "source": [
    "length([1 2 3; 4 5 6])"
   ]
  },
  {
   "cell_type": "code",
   "execution_count": 59,
   "metadata": {},
   "outputs": [
    {
     "name": "stdout",
     "output_type": "stream",
     "text": [
      "ans =  5\r\n"
     ]
    }
   ],
   "source": [
    "length([1; 2; 3; 4; 5]) % 列向量"
   ]
  },
  {
   "cell_type": "code",
   "execution_count": 62,
   "metadata": {},
   "outputs": [
    {
     "name": "stdout",
     "output_type": "stream",
     "text": [
      "Variables in the current scope:\r\n",
      "\r\n",
      "A    a    ans  b    c    sz   v    w\r\n",
      "\r\n"
     ]
    }
   ],
   "source": [
    "who"
   ]
  },
  {
   "cell_type": "code",
   "execution_count": 63,
   "metadata": {
    "scrolled": true
   },
   "outputs": [
    {
     "name": "stdout",
     "output_type": "stream",
     "text": [
      "Variables in the current scope:\r\n",
      "\r\n",
      "   Attr Name        Size                     Bytes  Class\r\n",
      "   ==== ====        ====                     =====  ===== \r\n",
      "        A           3x2                         48  double\r\n",
      "        a           1x1                          8  double\r\n",
      "        ans         1x53                        53  char\r\n",
      "        b           1x2                          2  char\r\n",
      "        c           1x1                          1  logical\r\n",
      "        sz          1x2                         16  double\r\n",
      "        v           1x4                         32  double\r\n",
      "        w           1x10000                  80000  double\r\n",
      "\r\n",
      "Total is 10069 elements using 80160 bytes\r\n",
      "\r\n"
     ]
    }
   ],
   "source": [
    "whos"
   ]
  },
  {
   "cell_type": "code",
   "execution_count": 64,
   "metadata": {},
   "outputs": [
    {
     "name": "stdout",
     "output_type": "stream",
     "text": [
      "\u001b[H\u001b[J"
     ]
    }
   ],
   "source": [
    "clc"
   ]
  },
  {
   "cell_type": "code",
   "execution_count": 68,
   "metadata": {},
   "outputs": [],
   "source": [
    "clear"
   ]
  },
  {
   "cell_type": "code",
   "execution_count": 69,
   "metadata": {},
   "outputs": [
    {
     "name": "stdout",
     "output_type": "stream",
     "text": [
      "x =\r\n",
      "\r\n",
      "   1   2\r\n",
      "   3   4\r\n",
      "   5   6\r\n",
      "\r\n"
     ]
    }
   ],
   "source": [
    "x = [1 2; 3 4; 5 6]"
   ]
  },
  {
   "cell_type": "code",
   "execution_count": 71,
   "metadata": {},
   "outputs": [
    {
     "name": "stdout",
     "output_type": "stream",
     "text": [
      "y =\r\n",
      "\r\n",
      "   1   2\r\n",
      "   3   4\r\n",
      "\r\n"
     ]
    }
   ],
   "source": [
    "y = [1 2; 3 4]"
   ]
  },
  {
   "cell_type": "code",
   "execution_count": 72,
   "metadata": {},
   "outputs": [],
   "source": [
    "save hello x y;"
   ]
  }
 ],
 "metadata": {
  "kernelspec": {
   "display_name": "Octave",
   "language": "octave",
   "name": "octave"
  },
  "language_info": {
   "file_extension": ".m",
   "help_links": [
    {
     "text": "GNU Octave",
     "url": "https://www.gnu.org/software/octave/support.html"
    },
    {
     "text": "Octave Kernel",
     "url": "https://github.com/Calysto/octave_kernel"
    },
    {
     "text": "MetaKernel Magics",
     "url": "https://metakernel.readthedocs.io/en/latest/source/README.html"
    }
   ],
   "mimetype": "text/x-octave",
   "name": "octave",
   "version": "3.8.2"
  }
 },
 "nbformat": 4,
 "nbformat_minor": 2
}
