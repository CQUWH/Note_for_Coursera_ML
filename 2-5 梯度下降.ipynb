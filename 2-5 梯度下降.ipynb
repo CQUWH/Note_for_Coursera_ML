{
 "cells": [
  {
   "cell_type": "markdown",
   "metadata": {},
   "source": [
    "# 2-5 梯度下降"
   ]
  },
  {
   "cell_type": "markdown",
   "metadata": {},
   "source": [
    "### 什么是梯度\n",
    "\n",
    "梯度是导数对多元函数的推广，它是多元函数对各自自变量**偏导数**形成的**向量**。\n",
    "\n",
    "$$\n",
    "grad\\ f(x_0,x_1,...,x_n) = \\left(\\frac{\\partial f}{\\partial x_0},\\frac{\\partial f}{\\partial x_1},...,\\frac{\\partial f}{\\partial x_n} \\right)\n",
    "$$\n",
    "\n",
    "梯度也可以表示为哈密顿算子 $\\nabla f$.\n",
    "\n",
    "例如：$f(x_1,x_2) = x_1^2+x_2^2+x_1x_2$的梯度为 $\\left(2x_1+x_2, 2x_2+x_1 \\right)$"
   ]
  },
  {
   "cell_type": "markdown",
   "metadata": {},
   "source": [
    "### 什么是梯度下降法\n",
    "\n",
    "梯度下降法是一个用来求函数（局部）最小值的**迭代算法**。\n",
    "\n",
    "梯度下降法的步骤：\n",
    "1. 给定一个初始点 $x^0$，令 $k=0$\n",
    "2. 求出负梯度方向作为搜索方向 $d^k$\n",
    "3. 确定搜索步长 $\\lambda_k$，使得 $f(x^k+\\lambda_kd^k)<f(x^k)$ （大多数时候采用固定步长，即机器学习中所说的学习率）\n",
    "4. 令 $x^{k+1} = x^k+\\lambda_kd^k, k:=k+1$\n",
    "5. 判断 $x^k$ 是否满足停止条件。是则停止，否则转第二步\n",
    "\n",
    "本来梯度下降法每次迭代的步长可以由其他搜索技术确定一个最优步长，但是机器学习中往往使用固定学习率作为迭代步长，因此这里就不再解释上述算法第3步。"
   ]
  },
  {
   "cell_type": "markdown",
   "metadata": {},
   "source": [
    "### 为什么是负梯度方向\n",
    "\n",
    "因为函数值下降最快的方向就是负梯度方向 $-\\nabla f(x^k)$\n",
    "\n",
    "证明：略"
   ]
  },
  {
   "cell_type": "markdown",
   "metadata": {},
   "source": [
    "### 迭代公式\n",
    "\n",
    "$$\n",
    "x^{k+1} = x^{k} - \\lambda \\nabla f(x^k)\n",
    "$$\n",
    "\n",
    "其中 $\\lambda$ 为迭代步长亦称学习率"
   ]
  },
  {
   "cell_type": "markdown",
   "metadata": {},
   "source": [
    "### 流程图\n",
    "\n",
    "<img src=\"./img/2_5_p0.png\" style=\"zoom:80%\" />\n",
    "\n",
    "图中 $\\varepsilon$ 表示精度要求，即梯度向量的模长 $\\|\\nabla f(x^k)\\|$ 小于等于该精度要求时停止迭代\n",
    "\n",
    "图中 $\\alpha$ 表示迭代步长，这里每次都求了一个最优步长而非固定步长"
   ]
  },
  {
   "cell_type": "markdown",
   "metadata": {},
   "source": [
    "### 简单示例\n",
    "\n",
    "假设求目标函数 $J(\\theta) = \\theta^2$ 的最小值，即：\n",
    "\n",
    "$$\n",
    "min \\ J(\\theta) = \\theta^2\n",
    "$$\n",
    "\n",
    "初始值 $\\theta^0 = 1$，学习率 $\\alpha = 0.4$\n",
    "\n",
    "因为是一元函数，梯度即为导数，因此 $J'(\\theta) = 2\\theta$\n",
    "\n",
    "\n",
    "**第一次迭代：**  \n",
    "$$\n",
    "\\begin{align}\n",
    "\\theta^1 &= \\theta^0 - \\alpha J'(\\theta^0)\\\\\n",
    "         &= 1 - 0.4\\times2\\\\\n",
    "         &= 0.2\n",
    "\\end{align}\n",
    "$$\n",
    "\n",
    "**第二次迭代：**  \n",
    "$$\n",
    "\\begin{align}\n",
    "\\theta^2 &= \\theta^1 - \\alpha J'(\\theta^1)\\\\\n",
    "         &= 0.2 - 0.4\\times0.4\\\\\n",
    "         &= 0.04\n",
    "\\end{align}\n",
    "$$\n",
    "\n",
    "**第三次迭代：**\n",
    "..."
   ]
  },
  {
   "cell_type": "markdown",
   "metadata": {},
   "source": [
    "### 程序演示"
   ]
  },
  {
   "cell_type": "code",
   "execution_count": 21,
   "metadata": {},
   "outputs": [
    {
     "name": "stdout",
     "output_type": "stream",
     "text": [
      "[1, 0.19999999999999996, 0.03999999999999998, 0.007999999999999993]\n"
     ]
    }
   ],
   "source": [
    "import numpy as np\n",
    "import matplotlib.pyplot as plt\n",
    "\n",
    "def J(theta):\n",
    "    \"\"\"目标函数\"\"\"\n",
    "    return theta**2\n",
    "\n",
    "def grad(theta):\n",
    "    \"\"\"目标函数的导函数\"\"\"\n",
    "    return 2*theta\n",
    "\n",
    "# 初始值和学习率\n",
    "theta_0 = 1\n",
    "learn_rate = 0.4\n",
    "\n",
    "# 梯度下降迭代\n",
    "thetas = [1]\n",
    "for i in range(3):\n",
    "    next_theta = thetas[i]-learn_rate*grad(thetas[i])\n",
    "    thetas.append(next_theta)\n",
    "\n",
    "print(thetas)"
   ]
  },
  {
   "cell_type": "markdown",
   "metadata": {},
   "source": [
    "可以看到迭代三次后的 $\\theta^3$ 已经非常接近真正的极小值点 $0$ 了，为了直观下面绘制出图像"
   ]
  },
  {
   "cell_type": "code",
   "execution_count": 23,
   "metadata": {},
   "outputs": [
    {
     "data": {
      "image/png": "[encoded data removed]",
      "text/plain": [
       "<Figure size 432x288 with 1 Axes>"
      ]
     },
     "metadata": {
      "needs_background": "light"
     },
     "output_type": "display_data"
    }
   ],
   "source": [
    "# 绘制图像\n",
    "J_thetas = [J(theta) for theta in thetas]  # 求出每一个theta对应的J(theta)\n",
    "plt.plot(x, y)\n",
    "plt.plot(thetas, J_thetas, marker='o')\n",
    "plt.show()"
   ]
  }
 ],
 "metadata": {
  "kernelspec": {
   "display_name": "ML",
   "language": "python",
   "name": "ml"
  },
  "language_info": {
   "codemirror_mode": {
    "name": "ipython",
    "version": 3
   },
   "file_extension": ".py",
   "mimetype": "text/x-python",
   "name": "python",
   "nbconvert_exporter": "python",
   "pygments_lexer": "ipython3",
   "version": "3.7.7"
  }
 },
 "nbformat": 4,
 "nbformat_minor": 4
}
