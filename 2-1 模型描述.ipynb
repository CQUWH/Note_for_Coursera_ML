{
 "cells": [
  {
   "cell_type": "markdown",
   "metadata": {},
   "source": [
    " # 2-1 模型描述"
   ]
  },
  {
   "cell_type": "markdown",
   "metadata": {},
   "source": [
    "### 例子\n",
    "根据一个包含不同住房的尺寸和售出价格的数据集建立模型预测给定尺寸的住房的房价\n",
    "\n",
    "<img src=\"./img/2_1_p0.png\" style=\"zoom:60%\" />\n",
    "\n",
    "这是一个**监督学习**中的**回归问题**。"
   ]
  },
  {
   "cell_type": "markdown",
   "metadata": {},
   "source": [
    "### 符号约定\n",
    "- $m$ 训练样本个数\n",
    "- $x's$ 输入变量/特征\n",
    "- $y's$ 输出变量/特征\n",
    "- $(x,y)$ 表示一个训练样本\n",
    "- $(x^{(i)}, y^{(i)})$ 第$i$个训练样本\n",
    "- $h$ 学习算法的解决方案或函数（hypothesis）"
   ]
  },
  {
   "cell_type": "markdown",
   "metadata": {},
   "source": [
    "### 过程\n",
    "<img src=\"./img/2_1_p1.png\" style=\"zoom:60%\" />"
   ]
  },
  {
   "cell_type": "markdown",
   "metadata": {},
   "source": [
    "### 如何表达$h$\n",
    "预测$y$是$x$的线性函数，因此一种可能的表达为：\n",
    "$$\n",
    "h_{\\theta}(x) = \\theta_0 + \\theta_1x\n",
    "$$\n",
    "\n",
    "该模型称为一元线性回归模型（linear regression with one variable）或者单变量线性回归（univariate linear regression）"
   ]
  }
 ],
 "metadata": {
  "kernelspec": {
   "display_name": "ML",
   "language": "python",
   "name": "ml"
  },
  "language_info": {
   "codemirror_mode": {
    "name": "ipython",
    "version": 3
   },
   "file_extension": ".py",
   "mimetype": "text/x-python",
   "name": "python",
   "nbconvert_exporter": "python",
   "pygments_lexer": "ipython3",
   "version": "3.7.7"
  }
 },
 "nbformat": 4,
 "nbformat_minor": 4
}
