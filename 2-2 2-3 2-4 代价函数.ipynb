{
 "cells": [
  {
   "cell_type": "markdown",
   "metadata": {},
   "source": [
    "# 2-2 2-3 2-4 代价函数（Cost function）"
   ]
  },
  {
   "cell_type": "markdown",
   "metadata": {},
   "source": [
    "问题：如何把最有可能的直线如我们的数据相拟合？\n",
    "\n",
    "<img src=\"./img/2_2_p0.png\" style=\"zoom:60%\" />\n",
    "\n",
    "直线拟合效果好坏的关键在于参数$\\theta_0$和$\\theta_1$的选择，那么如何评价参数的好坏？"
   ]
  },
  {
   "cell_type": "markdown",
   "metadata": {},
   "source": [
    "### 建模误差\n",
    "建模的目标是使得根据$x$预测的$h_{\\theta}(x)$尽可能的接近$y$，也就是使误差$|h_{\\theta}(x)-y|$充分小。将绝对值改写为平方形式（更方便计算）并对所有样本的误差求和为：\n",
    "$$\n",
    "\\sum_{i=1}^{m}{(h_{\\theta}(x^{(i)})-y^{(i)})^{2}}\n",
    "$$\n",
    "因此我们的优化目标为（前缀$\\frac{1}{2m}$是为了数学表达上的方便）：\n",
    "$$\n",
    "minimize \\ \\frac{1}{2m}\\sum_{i=1}^{m}{(h_{\\theta}(x^{(i)})-y^{(i)})^{2}}\n",
    "$$\n",
    "上述优化目标即为线性回归的整体目标函数。\n"
   ]
  },
  {
   "cell_type": "markdown",
   "metadata": {},
   "source": [
    "### 代价函数\n",
    "优化目标中的函数即为我们的代价函数:\n",
    "$$\n",
    "J(\\theta_0, \\theta_1) = \\frac{1}{2m}\\sum_{i=1}^{m}{(h_{\\theta}(x^{(i)})-y^{(i)})^{2}}\n",
    "$$\n",
    "此时优化目标可以表示为：\n",
    "$$\n",
    "minimize \\ J(\\theta_0, \\theta_1)\n",
    "$$\n",
    "该代价函数常称为平方误差函数(squared error function)，有时也称为平方误差代价函数(square error cost function)。\n",
    "\n",
    "平方误差函数在大多数线性回归问题中非常合理。"
   ]
  },
  {
   "cell_type": "markdown",
   "metadata": {},
   "source": [
    "### 代价函数直观理解 1\n",
    "<img src=\"./img/2_3_p0.png\" style=\"zoom:70%\" />\n",
    "\n",
    "<img src=\"./img/2_3_p1.png\" style=\"zoom:70%\" />\n",
    "\n",
    "$h_{\\theta}(x)$是关于$x$的函数，$J(\\theta_1)$是关于$\\theta_1$的函数"
   ]
  },
  {
   "cell_type": "markdown",
   "metadata": {},
   "source": [
    "### 代价函数的直观理解 2\n",
    "略"
   ]
  }
 ],
 "metadata": {
  "kernelspec": {
   "display_name": "ML",
   "language": "python",
   "name": "ml"
  },
  "language_info": {
   "codemirror_mode": {
    "name": "ipython",
    "version": 3
   },
   "file_extension": ".py",
   "mimetype": "text/x-python",
   "name": "python",
   "nbconvert_exporter": "python",
   "pygments_lexer": "ipython3",
   "version": "3.7.7"
  }
 },
 "nbformat": 4,
 "nbformat_minor": 4
}
