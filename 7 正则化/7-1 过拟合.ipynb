{
 "cells": [
  {
   "cell_type": "markdown",
   "metadata": {},
   "source": [
    "# 正则化"
   ]
  },
  {
   "cell_type": "markdown",
   "metadata": {},
   "source": [
    "### 欠拟合\n",
    "\n",
    "\n",
    "### 过拟合\n"
   ]
  },
  {
   "cell_type": "markdown",
   "metadata": {},
   "source": [
    "### 结果过拟合问题\n",
    "1.减少特征值的数量\n",
    "- 人工选择\n",
    "- 模型选择算法\n",
    "\n",
    "2.正则化"
   ]
  },
  {
   "cell_type": "markdown",
   "metadata": {},
   "source": [
    "### 正则化\n",
    "\n",
    "给参数加上惩罚项\n",
    "\n",
    "$$\n",
    "J(\\theta) = \\frac{1}{2m}\n",
    "\\left[\n",
    "\\sum_{i=1}^{m}\n",
    "(h_{\\theta}(x^{(i)})-y^{(i)})^2 + \n",
    "\\lambda\\sum_{j=1}^{n}\\theta_j^2\n",
    "\\right]\n",
    "$$\n",
    "\n",
    "其中 $\\sum_{j=1}^{n}\\theta_j^2$ 称为正则化项，$\\lambda$ 称为正则化参数，用来平衡二者的选择。"
   ]
  },
  {
   "cell_type": "markdown",
   "metadata": {},
   "source": [
    " ### 正则化参数 $\\lambda$ 的选择"
   ]
  }
 ],
 "metadata": {
  "kernelspec": {
   "display_name": "ML",
   "language": "python",
   "name": "ml"
  },
  "language_info": {
   "codemirror_mode": {
    "name": "ipython",
    "version": 3
   },
   "file_extension": ".py",
   "mimetype": "text/x-python",
   "name": "python",
   "nbconvert_exporter": "python",
   "pygments_lexer": "ipython3",
   "version": "3.7.7"
  }
 },
 "nbformat": 4,
 "nbformat_minor": 2
}
